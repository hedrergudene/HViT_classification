{
 "cells": [
  {
   "cell_type": "markdown",
   "metadata": {},
   "source": [
    "# 0 - Requirements"
   ]
  },
  {
   "cell_type": "code",
   "execution_count": null,
   "metadata": {},
   "outputs": [],
   "source": [
    "pip install -U tensorflow-addons"
   ]
  },
  {
   "cell_type": "code",
   "execution_count": null,
   "metadata": {},
   "outputs": [],
   "source": [
    "!pip install wandb"
   ]
  },
  {
   "cell_type": "code",
   "execution_count": 3,
   "metadata": {},
   "outputs": [],
   "source": [
    "import tensorflow as tf\n",
    "import pandas as pd\n",
    "from sklearn.model_selection import KFold, train_test_split\n",
    "from tensorflow import keras\n",
    "from tensorflow.keras import layers\n",
    "import tensorflow_addons as tfa\n",
    "from typing import List, Dict\n",
    "import wandb\n",
    "\n",
    "import zipfile\n",
    "from tqdm import tqdm\n",
    "import os\n",
    "import re\n",
    "\n",
    "# Login into W&B\n",
    "WB_ENTITY = 'ual'\n",
    "WB_PROJECT = 'hvit_classifier'\n",
    "WB_KEY = '1bb44e6be47564584868ec55bac8cf468cf0e47f'"
   ]
  },
  {
   "cell_type": "code",
   "execution_count": 4,
   "metadata": {},
   "outputs": [
    {
     "data": {
      "text/plain": [
       "[]"
      ]
     },
     "execution_count": 4,
     "metadata": {},
     "output_type": "execute_result"
    }
   ],
   "source": [
    "tf.config.list_physical_devices('GPU')"
   ]
  },
  {
   "cell_type": "markdown",
   "metadata": {},
   "source": [
    "# 1 - Data"
   ]
  },
  {
   "cell_type": "code",
   "execution_count": null,
   "metadata": {},
   "outputs": [],
   "source": [
    "with zipfile.ZipFile('/content/drive/MyDrive/Computer Vision research/archive.zip') as zf:\n",
    "    for member in tqdm(zf.infolist(), desc='Extracting '):\n",
    "        if member.filename[-4:]=='jpeg':\n",
    "            try:\n",
    "                zf.extract(member, '/content/')\n",
    "            except zipfile.error as e:\n",
    "                pass\n",
    "        else:\n",
    "            continue"
   ]
  },
  {
   "cell_type": "markdown",
   "metadata": {},
   "source": [
    "# 2 - Parameters"
   ]
  },
  {
   "cell_type": "markdown",
   "metadata": {},
   "source": [
    "## Config"
   ]
  },
  {
   "cell_type": "code",
   "execution_count": null,
   "metadata": {},
   "outputs": [],
   "source": [
    "# Config\n",
    "path = '/content/OCT2017 /train/'\n",
    "color_mode = \"grayscale\"\n",
    "class_mode = \"categorical\"\n",
    "img_size = 128\n",
    "batch_size = 32\n",
    "epochs = 10\n",
    "pct_split=[.8,.2,.1]\n",
    "seed = 123\n",
    "verbose=1\n",
    "learning_rate = 0.00005\n",
    "weight_decay = 0.0001\n",
    "label_smoothing = .1"
   ]
  },
  {
   "cell_type": "markdown",
   "metadata": {},
   "source": [
    "## Image generators"
   ]
  },
  {
   "cell_type": "code",
   "execution_count": null,
   "metadata": {},
   "outputs": [],
   "source": [
    "ImageDataGenerator_config = {\n",
    "    'train':{\n",
    "        \"rescale\":1./255,\n",
    "        \"shear_range\":.1,\n",
    "        \"rotation_range\":.2,\n",
    "        \"zoom_range\":.1,\n",
    "        \"horizontal_flip\" : True,\n",
    "        },\n",
    "    'val':{\n",
    "        \"rescale\":1./255,\n",
    "        },\n",
    "    'test':{\n",
    "        \"rescale\":1./255,\n",
    "        }\n",
    "}\n",
    "flow_from_dataframe_config = {\n",
    "    'train':{\n",
    "        \"dataframe\":None,\n",
    "        \"directory\":None,\n",
    "        \"x_col\":\"x_col\",\n",
    "        \"y_col\":\"y_col\",\n",
    "        \"batch_size\":batch_size,\n",
    "        \"target_size\":(img_size, img_size),\n",
    "        \"color_mode\":color_mode,\n",
    "        \"class_mode\":class_mode,\n",
    "        \"shuffle\":True,\n",
    "        \"seed\":seed,\n",
    "        },\n",
    "    'val':{\n",
    "        \"dataframe\":None,\n",
    "        \"directory\":None,\n",
    "        \"x_col\":\"x_col\",\n",
    "        \"y_col\":\"y_col\",\n",
    "        \"batch_size\":batch_size,\n",
    "        \"target_size\":(img_size, img_size),\n",
    "        \"color_mode\":color_mode,\n",
    "        \"class_mode\":class_mode,\n",
    "        \"shuffle\":True,\n",
    "        \"seed\":seed,\n",
    "        },\n",
    "    'test':{\n",
    "        \"dataframe\":None,\n",
    "        \"directory\":None,\n",
    "        \"x_col\":\"x_col\",\n",
    "        \"y_col\":\"y_col\",\n",
    "        \"batch_size\":batch_size,\n",
    "        \"target_size\":(img_size, img_size),\n",
    "        \"color_mode\":color_mode,\n",
    "        \"class_mode\":class_mode,\n",
    "        \"shuffle\":True,\n",
    "        \"seed\":seed,\n",
    "        }\n",
    "}"
   ]
  },
  {
   "cell_type": "markdown",
   "metadata": {},
   "source": [
    "## Model"
   ]
  },
  {
   "cell_type": "markdown",
   "metadata": {},
   "source": [
    "patch_size = [8,16,32]\n",
    "num_channels = 1\n",
    "num_heads = 8\n",
    "transformer_layers = [4,4,4]\n",
    "hidden_unit_factor = 2\n",
    "mlp_head_units = [1024, 128]\n",
    "num_classes=4\n",
    "drop_attn=.2\n",
    "drop_proj=.2\n",
    "drop_linear=.4\n",
    "projection_dim = None\n",
    "resampling_type=\"standard\"\n",
    "original_attn=True"
   ]
  },
  {
   "cell_type": "markdown",
   "metadata": {},
   "source": [
    "# Run experiment"
   ]
  },
  {
   "cell_type": "markdown",
   "metadata": {},
   "source": [
    "# Import model\n",
    "from HViT_classification.model.ViT_model import HViT\n",
    "from HViT_classification.model.experiments import run_WB_experiment\n",
    "# Set group\n",
    "WB_GROUP = 'HViT'\n",
    "# Start running\n",
    "with tf.device('/device:GPU:0'):\n",
    "  # Instance model\n",
    "  inputs = tf.keras.layers.Input((img_size, img_size, num_channels))\n",
    "  outputs = HViT(\n",
    "                 img_size,\n",
    "                 patch_size,\n",
    "                 projection_dim,\n",
    "                 num_channels,\n",
    "                 num_heads,\n",
    "                 transformer_layers,\n",
    "                 mlp_head_units,\n",
    "                 num_classes,\n",
    "                 hidden_unit_factor,\n",
    "                 drop_attn,\n",
    "                 drop_proj,\n",
    "                 drop_linear,\n",
    "                 resampling_type,\n",
    "                 original_attn,\n",
    "                 )(inputs)\n",
    "  model = tf.keras.Model(inputs, outputs)\n",
    "  # Run experiment\n",
    "  run_WB_experiment(WB_KEY,\n",
    "                    WB_ENTITY,\n",
    "                    WB_PROJECT,\n",
    "                    WB_GROUP,\n",
    "                    model,\n",
    "                    ImageDataGenerator_config,\n",
    "                    flow_from_dataframe_config,\n",
    "                    path=path,\n",
    "                    epochs=epochs,\n",
    "                    pct_split=pct_split,\n",
    "                    learning_rate=learning_rate,\n",
    "                    weight_decay=weight_decay,\n",
    "                    label_smoothing = label_smoothing,\n",
    "                    seed=seed,\n",
    "                    verbose=verbose,\n",
    "                    )"
   ]
  }
 ],
 "metadata": {
  "interpreter": {
   "hash": "a3b14eae863c6e46f4b8096f6206de3a431cb840c388ca49f0080a4d3231f843"
  },
  "kernelspec": {
   "display_name": "Python 3.9.7 64-bit",
   "name": "python3"
  },
  "language_info": {
   "codemirror_mode": {
    "name": "ipython",
    "version": 3
   },
   "file_extension": ".py",
   "mimetype": "text/x-python",
   "name": "python",
   "nbconvert_exporter": "python",
   "pygments_lexer": "ipython3",
   "version": "3.9.7"
  },
  "orig_nbformat": 4
 },
 "nbformat": 4,
 "nbformat_minor": 2
}
